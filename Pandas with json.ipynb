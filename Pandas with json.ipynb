{
 "cells": [
  {
   "cell_type": "code",
   "execution_count": 1,
   "id": "47cfd88b",
   "metadata": {},
   "outputs": [],
   "source": [
    "data='{\"Employee_name\": \"James\",\"Email\": \"James@gmail.com\",\"Job_Profile\": [{\"title1\": \"Team Lead\",\"Title2\": \"Senior.Developer \"}]}'"
   ]
  },
  {
   "cell_type": "code",
   "execution_count": 2,
   "id": "4d69571c",
   "metadata": {},
   "outputs": [
    {
     "data": {
      "text/plain": [
       "str"
      ]
     },
     "execution_count": 2,
     "metadata": {},
     "output_type": "execute_result"
    }
   ],
   "source": [
    "type(data)"
   ]
  },
  {
   "cell_type": "code",
   "execution_count": 3,
   "id": "f6529847",
   "metadata": {},
   "outputs": [],
   "source": [
    "import pandas as pd"
   ]
  },
  {
   "cell_type": "code",
   "execution_count": 4,
   "id": "2a0e4d01",
   "metadata": {},
   "outputs": [
    {
     "data": {
      "text/html": [
       "<div>\n",
       "<style scoped>\n",
       "    .dataframe tbody tr th:only-of-type {\n",
       "        vertical-align: middle;\n",
       "    }\n",
       "\n",
       "    .dataframe tbody tr th {\n",
       "        vertical-align: top;\n",
       "    }\n",
       "\n",
       "    .dataframe thead th {\n",
       "        text-align: right;\n",
       "    }\n",
       "</style>\n",
       "<table border=\"1\" class=\"dataframe\">\n",
       "  <thead>\n",
       "    <tr style=\"text-align: right;\">\n",
       "      <th></th>\n",
       "      <th>Employee_name</th>\n",
       "      <th>Email</th>\n",
       "      <th>Job_Profile</th>\n",
       "    </tr>\n",
       "  </thead>\n",
       "  <tbody>\n",
       "    <tr>\n",
       "      <th>0</th>\n",
       "      <td>James</td>\n",
       "      <td>James@gmail.com</td>\n",
       "      <td>{'title1': 'Team Lead', 'Title2': 'Senior.Deve...</td>\n",
       "    </tr>\n",
       "  </tbody>\n",
       "</table>\n",
       "</div>"
      ],
      "text/plain": [
       "  Employee_name            Email  \\\n",
       "0         James  James@gmail.com   \n",
       "\n",
       "                                         Job_Profile  \n",
       "0  {'title1': 'Team Lead', 'Title2': 'Senior.Deve...  "
      ]
     },
     "execution_count": 4,
     "metadata": {},
     "output_type": "execute_result"
    }
   ],
   "source": [
    "pd.read_json(data)"
   ]
  },
  {
   "cell_type": "code",
   "execution_count": 5,
   "id": "433126b3",
   "metadata": {},
   "outputs": [
    {
     "data": {
      "text/html": [
       "<div>\n",
       "<style scoped>\n",
       "    .dataframe tbody tr th:only-of-type {\n",
       "        vertical-align: middle;\n",
       "    }\n",
       "\n",
       "    .dataframe tbody tr th {\n",
       "        vertical-align: top;\n",
       "    }\n",
       "\n",
       "    .dataframe thead th {\n",
       "        text-align: right;\n",
       "    }\n",
       "</style>\n",
       "<table border=\"1\" class=\"dataframe\">\n",
       "  <thead>\n",
       "    <tr style=\"text-align: right;\">\n",
       "      <th></th>\n",
       "      <th>Employee_name</th>\n",
       "      <th>Email</th>\n",
       "      <th>Job_Profile</th>\n",
       "    </tr>\n",
       "  </thead>\n",
       "  <tbody>\n",
       "    <tr>\n",
       "      <th>0</th>\n",
       "      <td>James</td>\n",
       "      <td>James@gmail.com</td>\n",
       "      <td>{'title1': 'Team Lead', 'Title2': 'Senior.Deve...</td>\n",
       "    </tr>\n",
       "  </tbody>\n",
       "</table>\n",
       "</div>"
      ],
      "text/plain": [
       "  Employee_name            Email  \\\n",
       "0         James  James@gmail.com   \n",
       "\n",
       "                                         Job_Profile  \n",
       "0  {'title1': 'Team Lead', 'Title2': 'Senior.Deve...  "
      ]
     },
     "execution_count": 5,
     "metadata": {},
     "output_type": "execute_result"
    }
   ],
   "source": [
    "pd.read_json(data,orient='records')"
   ]
  },
  {
   "cell_type": "code",
   "execution_count": 6,
   "id": "c17b0c20",
   "metadata": {},
   "outputs": [
    {
     "data": {
      "text/html": [
       "<div>\n",
       "<style scoped>\n",
       "    .dataframe tbody tr th:only-of-type {\n",
       "        vertical-align: middle;\n",
       "    }\n",
       "\n",
       "    .dataframe tbody tr th {\n",
       "        vertical-align: top;\n",
       "    }\n",
       "\n",
       "    .dataframe thead th {\n",
       "        text-align: right;\n",
       "    }\n",
       "</style>\n",
       "<table border=\"1\" class=\"dataframe\">\n",
       "  <thead>\n",
       "    <tr style=\"text-align: right;\">\n",
       "      <th></th>\n",
       "      <th>0</th>\n",
       "    </tr>\n",
       "  </thead>\n",
       "  <tbody>\n",
       "    <tr>\n",
       "      <th>Employee_name</th>\n",
       "      <td>James</td>\n",
       "    </tr>\n",
       "    <tr>\n",
       "      <th>Email</th>\n",
       "      <td>James@gmail.com</td>\n",
       "    </tr>\n",
       "    <tr>\n",
       "      <th>Job_Profile</th>\n",
       "      <td>[{'title1': 'Team Lead', 'Title2': 'Senior.Dev...</td>\n",
       "    </tr>\n",
       "  </tbody>\n",
       "</table>\n",
       "</div>"
      ],
      "text/plain": [
       "                                                               0\n",
       "Employee_name                                              James\n",
       "Email                                            James@gmail.com\n",
       "Job_Profile    [{'title1': 'Team Lead', 'Title2': 'Senior.Dev..."
      ]
     },
     "execution_count": 6,
     "metadata": {},
     "output_type": "execute_result"
    }
   ],
   "source": [
    "pd.read_json(data,orient='index')"
   ]
  },
  {
   "cell_type": "code",
   "execution_count": 8,
   "id": "37386cef",
   "metadata": {},
   "outputs": [],
   "source": [
    "df=pd.DataFrame([['a','b'],['c','d']],\n",
    "                index=['row1','row2'],\n",
    "                columns=['col1','col2'])"
   ]
  },
  {
   "cell_type": "code",
   "execution_count": 9,
   "id": "30a5a662",
   "metadata": {},
   "outputs": [
    {
     "data": {
      "text/html": [
       "<div>\n",
       "<style scoped>\n",
       "    .dataframe tbody tr th:only-of-type {\n",
       "        vertical-align: middle;\n",
       "    }\n",
       "\n",
       "    .dataframe tbody tr th {\n",
       "        vertical-align: top;\n",
       "    }\n",
       "\n",
       "    .dataframe thead th {\n",
       "        text-align: right;\n",
       "    }\n",
       "</style>\n",
       "<table border=\"1\" class=\"dataframe\">\n",
       "  <thead>\n",
       "    <tr style=\"text-align: right;\">\n",
       "      <th></th>\n",
       "      <th>col1</th>\n",
       "      <th>col2</th>\n",
       "    </tr>\n",
       "  </thead>\n",
       "  <tbody>\n",
       "    <tr>\n",
       "      <th>row1</th>\n",
       "      <td>a</td>\n",
       "      <td>b</td>\n",
       "    </tr>\n",
       "    <tr>\n",
       "      <th>row2</th>\n",
       "      <td>c</td>\n",
       "      <td>d</td>\n",
       "    </tr>\n",
       "  </tbody>\n",
       "</table>\n",
       "</div>"
      ],
      "text/plain": [
       "     col1 col2\n",
       "row1    a    b\n",
       "row2    c    d"
      ]
     },
     "execution_count": 9,
     "metadata": {},
     "output_type": "execute_result"
    }
   ],
   "source": [
    "df"
   ]
  },
  {
   "cell_type": "code",
   "execution_count": 11,
   "id": "fb346671",
   "metadata": {},
   "outputs": [
    {
     "data": {
      "text/plain": [
       "'{\"col1\":{\"row1\":\"a\",\"row2\":\"c\"},\"col2\":{\"row1\":\"b\",\"row2\":\"d\"}}'"
      ]
     },
     "execution_count": 11,
     "metadata": {},
     "output_type": "execute_result"
    }
   ],
   "source": [
    "df.to_json()"
   ]
  },
  {
   "cell_type": "code",
   "execution_count": 12,
   "id": "66d582be",
   "metadata": {},
   "outputs": [
    {
     "data": {
      "text/plain": [
       "'{\"row1\":{\"col1\":\"a\",\"col2\":\"b\"},\"row2\":{\"col1\":\"c\",\"col2\":\"d\"}}'"
      ]
     },
     "execution_count": 12,
     "metadata": {},
     "output_type": "execute_result"
    }
   ],
   "source": [
    "df.to_json(orient=\"index\")"
   ]
  },
  {
   "cell_type": "code",
   "execution_count": 13,
   "id": "f67fe3fb",
   "metadata": {},
   "outputs": [
    {
     "data": {
      "text/plain": [
       "'{\"col1\":{\"row1\":\"a\",\"row2\":\"c\"},\"col2\":{\"row1\":\"b\",\"row2\":\"d\"}}'"
      ]
     },
     "execution_count": 13,
     "metadata": {},
     "output_type": "execute_result"
    }
   ],
   "source": [
    "df.to_json(orient=\"columns\")"
   ]
  },
  {
   "cell_type": "code",
   "execution_count": 14,
   "id": "3337bb9c",
   "metadata": {},
   "outputs": [
    {
     "data": {
      "text/plain": [
       "'[{\"col1\":\"a\",\"col2\":\"b\"},{\"col1\":\"c\",\"col2\":\"d\"}]'"
      ]
     },
     "execution_count": 14,
     "metadata": {},
     "output_type": "execute_result"
    }
   ],
   "source": [
    "df.to_json(orient=\"records\")"
   ]
  },
  {
   "cell_type": "code",
   "execution_count": 15,
   "id": "3fcd3e3a",
   "metadata": {},
   "outputs": [
    {
     "data": {
      "text/plain": [
       "'{\"columns\":[\"col1\",\"col2\"],\"index\":[\"row1\",\"row2\"],\"data\":[[\"a\",\"b\"],[\"c\",\"d\"]]}'"
      ]
     },
     "execution_count": 15,
     "metadata": {},
     "output_type": "execute_result"
    }
   ],
   "source": [
    "df.to_json(orient=\"split\")"
   ]
  },
  {
   "cell_type": "code",
   "execution_count": 16,
   "id": "249bea46",
   "metadata": {},
   "outputs": [
    {
     "data": {
      "text/plain": [
       "'{\"schema\":{\"fields\":[{\"name\":\"index\",\"type\":\"string\"},{\"name\":\"col1\",\"type\":\"string\"},{\"name\":\"col2\",\"type\":\"string\"}],\"primaryKey\":[\"index\"],\"pandas_version\":\"0.20.0\"},\"data\":[{\"index\":\"row1\",\"col1\":\"a\",\"col2\":\"b\"},{\"index\":\"row2\",\"col1\":\"c\",\"col2\":\"d\"}]}'"
      ]
     },
     "execution_count": 16,
     "metadata": {},
     "output_type": "execute_result"
    }
   ],
   "source": [
    "df.to_json(orient=\"table\")"
   ]
  },
  {
   "cell_type": "code",
   "execution_count": null,
   "id": "ee13679b",
   "metadata": {},
   "outputs": [],
   "source": []
  }
 ],
 "metadata": {
  "kernelspec": {
   "display_name": "Python 3",
   "language": "python",
   "name": "python3"
  },
  "language_info": {
   "codemirror_mode": {
    "name": "ipython",
    "version": 3
   },
   "file_extension": ".py",
   "mimetype": "text/x-python",
   "name": "python",
   "nbconvert_exporter": "python",
   "pygments_lexer": "ipython3",
   "version": "3.8.8"
  }
 },
 "nbformat": 4,
 "nbformat_minor": 5
}
